{
  "nbformat": 4,
  "nbformat_minor": 0,
  "metadata": {
    "colab": {
      "provenance": [],
      "authorship_tag": "ABX9TyMl0F3JcutHfjHIY5NHrnh7",
      "include_colab_link": true
    },
    "kernelspec": {
      "name": "python3",
      "display_name": "Python 3"
    },
    "language_info": {
      "name": "python"
    }
  },
  "cells": [
    {
      "cell_type": "markdown",
      "metadata": {
        "id": "view-in-github",
        "colab_type": "text"
      },
      "source": [
        "<a href=\"https://colab.research.google.com/github/adeDamon/python_lab/blob/main/python.ipynb\" target=\"_parent\"><img src=\"https://colab.research.google.com/assets/colab-badge.svg\" alt=\"Open In Colab\"/></a>"
      ]
    },
    {
      "cell_type": "code",
      "source": [
        "from datastore.job_analyzer import calc_salary, calc_bonus\n",
        "\n",
        "calc_bonus(20000, 22000)"
      ],
      "metadata": {
        "colab": {
          "base_uri": "https://localhost:8080/"
        },
        "id": "XD2gskToL9-m",
        "outputId": "698391e4-e4e2-4f8b-b033-1d4226d0d748"
      },
      "execution_count": 1,
      "outputs": [
        {
          "output_type": "execute_result",
          "data": {
            "text/plain": [
              "0.1"
            ]
          },
          "metadata": {},
          "execution_count": 1
        }
      ]
    },
    {
      "cell_type": "code",
      "source": [
        "calc_salary(20000, 0.2)"
      ],
      "metadata": {
        "colab": {
          "base_uri": "https://localhost:8080/"
        },
        "id": "pYs9XjXAPkfT",
        "outputId": "694567ee-308f-4986-fe00-c17eddfb35bb"
      },
      "execution_count": 2,
      "outputs": [
        {
          "output_type": "execute_result",
          "data": {
            "text/plain": [
              "24000.0"
            ]
          },
          "metadata": {},
          "execution_count": 2
        }
      ]
    },
    {
      "cell_type": "code",
      "source": [
        "import statistics\n",
        "scores = (72, 84, 27, 55, 36, 44, 98, 67, 68)\n",
        "statistics.mean(scores)"
      ],
      "metadata": {
        "id": "Sp81RybqQja0",
        "colab": {
          "base_uri": "https://localhost:8080/"
        },
        "outputId": "63690483-26fb-4c77-def5-031b5648b473"
      },
      "execution_count": 3,
      "outputs": [
        {
          "output_type": "execute_result",
          "data": {
            "text/plain": [
              "61.22222222222222"
            ]
          },
          "metadata": {},
          "execution_count": 3
        }
      ]
    },
    {
      "cell_type": "code",
      "source": [
        "from datetime import datetime\n",
        "print(datetime.now())"
      ],
      "metadata": {
        "id": "RnJBjR7kjeAY",
        "colab": {
          "base_uri": "https://localhost:8080/"
        },
        "outputId": "2547e6c3-4beb-4dd5-bc3b-f4d302fe738a"
      },
      "execution_count": 4,
      "outputs": [
        {
          "output_type": "stream",
          "name": "stdout",
          "text": [
            "2025-01-22 22:45:41.832214\n"
          ]
        }
      ]
    },
    {
      "cell_type": "code",
      "source": [
        "from datastore.trial_one import data_science_jobs\n",
        "date_str = data_science_jobs[0]['job_date']"
      ],
      "metadata": {
        "id": "DwcR8C5jkLYz"
      },
      "execution_count": 5,
      "outputs": []
    },
    {
      "cell_type": "code",
      "source": [],
      "metadata": {
        "id": "uwXuBFq_m4lZ"
      },
      "execution_count": 5,
      "outputs": []
    }
  ]
}