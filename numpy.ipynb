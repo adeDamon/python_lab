{
  "nbformat": 4,
  "nbformat_minor": 0,
  "metadata": {
    "colab": {
      "provenance": [],
      "mount_file_id": "1U1CESLrTzR677PuAigFjM0jTNvF-07mV",
      "authorship_tag": "ABX9TyMxsiwo0YqhZDiYXXX6ArZR",
      "include_colab_link": true
    },
    "kernelspec": {
      "name": "python3",
      "display_name": "Python 3"
    },
    "language_info": {
      "name": "python"
    }
  },
  "cells": [
    {
      "cell_type": "markdown",
      "metadata": {
        "id": "view-in-github",
        "colab_type": "text"
      },
      "source": [
        "<a href=\"https://colab.research.google.com/github/adeDamon/python_lab/blob/main/numpy.ipynb\" target=\"_parent\"><img src=\"https://colab.research.google.com/assets/colab-badge.svg\" alt=\"Open In Colab\"/></a>"
      ]
    },
    {
      "cell_type": "code",
      "execution_count": 1,
      "metadata": {
        "colab": {
          "base_uri": "https://localhost:8080/"
        },
        "id": "OsmJtmX6qojb",
        "outputId": "7f9b7c54-0639-4eed-d617-f238ca3d0a85"
      },
      "outputs": [
        {
          "output_type": "stream",
          "name": "stdout",
          "text": [
            "[78, 29, 14, 33, 87, 19, 31, 21, 43, 19]\n"
          ]
        }
      ],
      "source": [
        "import random\n",
        "salary_list = [random.randint(1, 100) for i in range(10)]\n",
        "print(salary_list)"
      ]
    },
    {
      "cell_type": "code",
      "source": [
        "import statistics"
      ],
      "metadata": {
        "id": "zAvELvtw7I4X"
      },
      "execution_count": 2,
      "outputs": []
    },
    {
      "cell_type": "code",
      "source": [
        "%%timeit\n",
        "statistics.mean(salary_list)"
      ],
      "metadata": {
        "colab": {
          "base_uri": "https://localhost:8080/"
        },
        "id": "TA2SBHtZ6f9u",
        "outputId": "86a86f9e-ec64-4ff2-c998-5b538da90158"
      },
      "execution_count": 3,
      "outputs": [
        {
          "output_type": "stream",
          "name": "stdout",
          "text": [
            "12.4 µs ± 4.01 µs per loop (mean ± std. dev. of 7 runs, 100000 loops each)\n"
          ]
        }
      ]
    },
    {
      "cell_type": "code",
      "source": [
        "import numpy as np"
      ],
      "metadata": {
        "id": "UUaRp0_R7mws"
      },
      "execution_count": 4,
      "outputs": []
    },
    {
      "cell_type": "code",
      "source": [
        "%%timeit\n",
        "np.mean(salary_list)"
      ],
      "metadata": {
        "colab": {
          "base_uri": "https://localhost:8080/"
        },
        "id": "eOeX1PRi7sNj",
        "outputId": "eaa531e9-d4be-478d-e2fa-e41d706d12ea"
      },
      "execution_count": 5,
      "outputs": [
        {
          "output_type": "stream",
          "name": "stdout",
          "text": [
            "9.23 µs ± 1.54 µs per loop (mean ± std. dev. of 7 runs, 100000 loops each)\n"
          ]
        }
      ]
    },
    {
      "cell_type": "code",
      "source": [
        "my_array = np.array([1,2,3,4])\n",
        "my_array.mean()"
      ],
      "metadata": {
        "colab": {
          "base_uri": "https://localhost:8080/"
        },
        "id": "d8HlQXCOq4Ul",
        "outputId": "8f08bc7e-83f8-48fe-b984-2c4edfe5bc6c"
      },
      "execution_count": 7,
      "outputs": [
        {
          "output_type": "execute_result",
          "data": {
            "text/plain": [
              "2.5"
            ]
          },
          "metadata": {},
          "execution_count": 7
        }
      ]
    },
    {
      "cell_type": "code",
      "source": [
        "job_titles = np.array(['Data Scientist', 'Data Engineer', 'Data Analyst', 'Machine Learning Engineer', 'AI Engineer'])\n",
        "base_salaries = np.array([100000, 80000, 70000, 90000, np.nan])\n",
        "bonus_rates = np.array([.05, .1, .08, .12, np.nan])"
      ],
      "metadata": {
        "id": "HVMeMazATFGd"
      },
      "execution_count": 14,
      "outputs": []
    },
    {
      "cell_type": "code",
      "source": [
        "total_salary = base_salaries * (1 + bonus_rates)\n",
        "print(total_salary)"
      ],
      "metadata": {
        "colab": {
          "base_uri": "https://localhost:8080/"
        },
        "id": "jg04UKVjZdqx",
        "outputId": "2bc877ea-317d-4db9-e90d-f408c8714136"
      },
      "execution_count": 16,
      "outputs": [
        {
          "output_type": "stream",
          "name": "stdout",
          "text": [
            "[105000.  88000.  75600. 100800.     nan]\n"
          ]
        }
      ]
    },
    {
      "cell_type": "code",
      "source": [
        "np.nanmean(total_salary)"
      ],
      "metadata": {
        "colab": {
          "base_uri": "https://localhost:8080/"
        },
        "id": "QdEa0s_YZwCd",
        "outputId": "30f9d5b5-2821-4aac-a1f9-d3031b030d62"
      },
      "execution_count": 18,
      "outputs": [
        {
          "output_type": "execute_result",
          "data": {
            "text/plain": [
              "92350.0"
            ]
          },
          "metadata": {},
          "execution_count": 18
        }
      ]
    },
    {
      "cell_type": "code",
      "source": [],
      "metadata": {
        "id": "pu8ufobuZ032"
      },
      "execution_count": null,
      "outputs": []
    }
  ]
}